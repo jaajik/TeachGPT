{
 "cells": [
  {
   "cell_type": "code",
   "execution_count": 143,
   "id": "225c2393",
   "metadata": {},
   "outputs": [],
   "source": [
    "import spacy\n",
    "import rapidfuzz.fuzz as fuzz\n",
    "from rapidfuzz import process, fuzz\n",
    "\n",
    "nlp = spacy.load('en_core_web_md')\n",
    "\n",
    "arr_entities = []\n",
    "punc = '''!()-[]{};:'\"\\,<>./?@#$%^&*_~'''\n",
    "grade_levels = \"K123456789\" # must go through university level\n",
    "    # arr of strings\n",
    "    # 15 elements\n",
    "\n",
    "# training model i.e w/ data and potential terminology\n",
    "arr_entities.append(\"difficulty\")\n",
    "arr_entities.append(\"hard\")\n",
    "arr_entities.append(\"medium\")\n",
    "arr_entities.append(\"easy\")\n",
    "arr_entities.append(\"grade\") # example\n",
    "arr_entities.append(\"level\")\n",
    "arr_entities.append(\"lesson\")\n",
    "arr_entities.append(\"subject\")\n",
    "arr_entities.append(\"science\")\n",
    "arr_entities.append(\"math\")\n",
    "arr_entities.append(\"writing\")\n",
    "arr_entities.append(\"reading\")\n",
    "arr_entities.append(\"social studies\") # fuzzy matching\n",
    "\n",
    "prompt_characteristics = []\n",
    "\n",
    "def get_param(inp):\n",
    "    # parse input (using spacy) and get entities needed to set temperature parameter\n",
    "    # 1. parsing input\n",
    "        # look for keywords within string(ex: complexity, grade or length)\n",
    "        # spacy has the tool (extracts predefined entity)\n",
    "            # 3 library - pretrained machine learning model\n",
    "                # small medium and large libraries - use medium\n",
    "        # NLTK (national language tool kit) - similar to spacy\n",
    "     \n",
    "        # this is model - parse user input through this model\n",
    "    parsed_input = nlp(inp) # input will be parsed\n",
    "    \n",
    "    # remove all casing in the string\n",
    "    inp = inp.lower()\n",
    "    \n",
    "    # Removing punctuations in string\n",
    "    for punctutation in inp:\n",
    "        if punctutation in punc:\n",
    "            inp = inp.replace(punctutation, \" \")\n",
    "    \n",
    "    for ent in parsed_input.ents:\n",
    "        print(ent.text, ent.start_char, ent.end_char, ent.label_)\n",
    "     \n",
    "    # print(type(parsed_input.text))\n",
    "    \n",
    "    count = 0\n",
    "    for text in inp.split(\" \"):\n",
    "        count = count + 1\n",
    "        if text in arr_entities:\n",
    "            prompt_characteristics.append(text)\n",
    "            text_entity = process.extractOne(text, arr_entities, scorer=fuzz.WRatio)\n",
    "            print(text_entity)\n",
    "    \n",
    "    # 2. calulation of temperature\n",
    "    \n",
    "    default_temp = .5 # medium - when user doesn't declare \"level\"\n",
    "    # grade parameter - middle school, high school etc.\n",
    "        # most important; more important than level indentified by user-input\n",
    "    \n",
    "    # grade level - parameter type\n",
    "    para_type1 = [\"preschool\", \"kindergarten\", \"grade 1\", \"grade 2\", \"grade 3\", \"grade 4\", \"grade 5\", \"elementary\",\n",
    "                  \"grade 6\", \"grade 7\", \"grade 8\", \"middle\", \"grade 9\", \"grade 10\", \"grade 11\", \"grade 12\", \n",
    "                  \"high school\", \"college\", \"university\", \"expert\"]\n",
    "    \n",
    "    identified_grade = \"grade 7\"\n",
    "    \n",
    "    for i in range(len(para_type1)):\n",
    "        if identified_grade in para_type1:\n",
    "            temp_grade = 1-(i/len(para_type1))**2\n",
    "            \n",
    "    temperature = temp_grade\n",
    "            \n",
    "    # level of difficulty - parameter type\n",
    "    para_type2 = [\"very easy\", \"easy\", \"medium\", \"hard\", \"very hard\"]\n",
    "    \n",
    "    identified_level = \"medium\" # base case\n",
    "    count = 0\n",
    "    for level in para_type2:\n",
    "        for characteristic in prompt_characteristics:\n",
    "            count++\n",
    "            if fuzz.ratio(level, characteristic) > 95.0:\n",
    "                identified_level = level\n",
    "                delta_temp = count/len(para_type2)/4\n",
    "        count = 0\n",
    "    \n",
    "    for i in range(len(para_type2)):\n",
    "        temp_adjust = temp_grade*(1-delta_temp)\n",
    "        temp_grade_final = min(1, temp_adjust) \n",
    "    \n",
    "    temperature = temp_grade_final\n",
    "            \n",
    "    return(temperature)"
   ]
  },
  {
   "cell_type": "code",
   "execution_count": 144,
   "id": "9fdcd236",
   "metadata": {},
   "outputs": [
    {
     "name": "stdout",
     "output_type": "stream",
     "text": [
      "('easy', 100.0, 3)\n",
      "('lesson', 100.0, 6)\n",
      "('grade', 100.0, 4)\n",
      "('science', 100.0, 8)\n",
      "0.04512500000000004\n"
     ]
    }
   ],
   "source": [
    "prompt = \"Create an easy lesson plan for grade-4 science.\"\n",
    "# print(\"characteristics: \", prompt_characteristics)\n",
    "print(get_param(prompt))"
   ]
  },
  {
   "cell_type": "code",
   "execution_count": 46,
   "id": "6b5118dd",
   "metadata": {},
   "outputs": [
    {
     "name": "stdout",
     "output_type": "stream",
     "text": [
      "Collecting rapidfuzz\n",
      "  Downloading rapidfuzz-2.13.7-cp39-cp39-macosx_10_9_x86_64.whl (1.8 MB)\n",
      "\u001b[2K     \u001b[90m━━━━━━━━━━━━━━━━━━━━━━━━━━━━━━━━━━━━━━━━\u001b[0m \u001b[32m1.8/1.8 MB\u001b[0m \u001b[31m23.8 MB/s\u001b[0m eta \u001b[36m0:00:00\u001b[0m00:01\u001b[0m00:01\u001b[0m\n",
      "\u001b[?25hInstalling collected packages: rapidfuzz\n",
      "Successfully installed rapidfuzz-2.13.7\n"
     ]
    }
   ],
   "source": [
    "!pip install rapidfuzz"
   ]
  },
  {
   "cell_type": "code",
   "execution_count": 100,
   "id": "36eb77f9",
   "metadata": {
    "scrolled": true
   },
   "outputs": [
    {
     "name": "stdout",
     "output_type": "stream",
     "text": [
      "Collecting fuzzywuzzy\n",
      "  Downloading fuzzywuzzy-0.18.0-py2.py3-none-any.whl (18 kB)\n",
      "Installing collected packages: fuzzywuzzy\n",
      "Successfully installed fuzzywuzzy-0.18.0\n"
     ]
    }
   ],
   "source": [
    "!pip install fuzzywuzzy"
   ]
  },
  {
   "cell_type": "code",
   "execution_count": null,
   "id": "f93d4c21",
   "metadata": {},
   "outputs": [],
   "source": []
  }
 ],
 "metadata": {
  "kernelspec": {
   "display_name": "Python 3 (ipykernel)",
   "language": "python",
   "name": "python3"
  },
  "language_info": {
   "codemirror_mode": {
    "name": "ipython",
    "version": 3
   },
   "file_extension": ".py",
   "mimetype": "text/x-python",
   "name": "python",
   "nbconvert_exporter": "python",
   "pygments_lexer": "ipython3",
   "version": "3.9.13"
  }
 },
 "nbformat": 4,
 "nbformat_minor": 5
}
